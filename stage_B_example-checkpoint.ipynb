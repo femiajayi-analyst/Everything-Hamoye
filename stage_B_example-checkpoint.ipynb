{
 "cells": [
  {
   "cell_type": "code",
   "execution_count": 3,
   "id": "24eacb32",
   "metadata": {},
   "outputs": [],
   "source": [
    "import pandas as pd\n",
    "import numpy as np\n",
    "import seaborn as sns\n",
    "import matplotlib.pyplot as plt\n",
    "from sklearn.model_selection import train_test_split"
   ]
  },
  {
   "cell_type": "code",
   "execution_count": 4,
   "id": "a1a37df8",
   "metadata": {},
   "outputs": [
    {
     "name": "stdout",
     "output_type": "stream",
     "text": [
      "       X1     X2     X3      X4   X5  X6   X7  X8     Y1     Y2\n",
      "0    0.98  514.5  294.0  110.25  7.0   2  0.0   0  15.55  21.33\n",
      "1    0.98  514.5  294.0  110.25  7.0   3  0.0   0  15.55  21.33\n",
      "2    0.98  514.5  294.0  110.25  7.0   4  0.0   0  15.55  21.33\n",
      "3    0.98  514.5  294.0  110.25  7.0   5  0.0   0  15.55  21.33\n",
      "4    0.90  563.5  318.5  122.50  7.0   2  0.0   0  20.84  28.28\n",
      "..    ...    ...    ...     ...  ...  ..  ...  ..    ...    ...\n",
      "763  0.64  784.0  343.0  220.50  3.5   5  0.4   5  17.88  21.40\n",
      "764  0.62  808.5  367.5  220.50  3.5   2  0.4   5  16.54  16.88\n",
      "765  0.62  808.5  367.5  220.50  3.5   3  0.4   5  16.44  17.11\n",
      "766  0.62  808.5  367.5  220.50  3.5   4  0.4   5  16.48  16.61\n",
      "767  0.62  808.5  367.5  220.50  3.5   5  0.4   5  16.64  16.03\n",
      "\n",
      "[768 rows x 10 columns]\n"
     ]
    }
   ],
   "source": [
    "df = pd.read_excel('ENB2012_data.xlsx').dropna(axis=1)\n",
    "print(df)"
   ]
  },
  {
   "cell_type": "code",
   "execution_count": 5,
   "id": "f624188e",
   "metadata": {},
   "outputs": [],
   "source": [
    "column_names = {'X1':'Relative_Compactness', 'X2': 'Surface_Area',\n",
    "'X3': 'Wall_Area', 'X4': 'Roof_Area', 'X5': 'Overall_Height',\n",
    "'X6': 'Orientation', 'X7': 'Glazing_Area',\n",
    "'X8': 'Glazing_Area_Distribution',\n",
    "'Y1': 'Heating_Load', 'Y2': 'Cooling_Load'}"
   ]
  },
  {
   "cell_type": "code",
   "execution_count": 6,
   "id": "69da74b7",
   "metadata": {},
   "outputs": [
    {
     "name": "stdout",
     "output_type": "stream",
     "text": [
      "     Relative_Compactness  Surface_Area  Wall_Area  Roof_Area  Overall_Height  \\\n",
      "0                    0.98         514.5      294.0     110.25             7.0   \n",
      "1                    0.98         514.5      294.0     110.25             7.0   \n",
      "2                    0.98         514.5      294.0     110.25             7.0   \n",
      "3                    0.98         514.5      294.0     110.25             7.0   \n",
      "4                    0.90         563.5      318.5     122.50             7.0   \n",
      "..                    ...           ...        ...        ...             ...   \n",
      "763                  0.64         784.0      343.0     220.50             3.5   \n",
      "764                  0.62         808.5      367.5     220.50             3.5   \n",
      "765                  0.62         808.5      367.5     220.50             3.5   \n",
      "766                  0.62         808.5      367.5     220.50             3.5   \n",
      "767                  0.62         808.5      367.5     220.50             3.5   \n",
      "\n",
      "     Orientation  Glazing_Area  Glazing_Area_Distribution  Heating_Load  \\\n",
      "0              2           0.0                          0         15.55   \n",
      "1              3           0.0                          0         15.55   \n",
      "2              4           0.0                          0         15.55   \n",
      "3              5           0.0                          0         15.55   \n",
      "4              2           0.0                          0         20.84   \n",
      "..           ...           ...                        ...           ...   \n",
      "763            5           0.4                          5         17.88   \n",
      "764            2           0.4                          5         16.54   \n",
      "765            3           0.4                          5         16.44   \n",
      "766            4           0.4                          5         16.48   \n",
      "767            5           0.4                          5         16.64   \n",
      "\n",
      "     Cooling_Load  \n",
      "0           21.33  \n",
      "1           21.33  \n",
      "2           21.33  \n",
      "3           21.33  \n",
      "4           28.28  \n",
      "..            ...  \n",
      "763         21.40  \n",
      "764         16.88  \n",
      "765         17.11  \n",
      "766         16.61  \n",
      "767         16.03  \n",
      "\n",
      "[768 rows x 10 columns]\n"
     ]
    }
   ],
   "source": [
    "df = df.rename(columns=column_names).dropna(axis=1)\n",
    "print(df)"
   ]
  },
  {
   "cell_type": "code",
   "execution_count": 7,
   "id": "3d5d3790",
   "metadata": {},
   "outputs": [
    {
     "name": "stdout",
     "output_type": "stream",
     "text": [
      "     Relative_Compactness  Cooling_Load\n",
      "158                  0.82         25.35\n",
      "251                  0.86         31.28\n",
      "631                  0.90         33.31\n",
      "757                  0.66         17.79\n",
      "689                  0.79         47.59\n",
      "573                  0.62         17.21\n",
      "553                  0.74         17.25\n",
      "728                  0.86         29.69\n",
      "183                  0.66         13.83\n",
      "515                  0.69         14.60\n",
      "460                  0.71         14.67\n",
      "143                  0.62         14.24\n",
      "258                  0.79         43.14\n",
      "682                  0.86         36.21\n",
      "62                   0.82         24.61\n"
     ]
    }
   ],
   "source": [
    "simple_linear_reg_df = df[['Relative_Compactness', 'Cooling_Load']].sample(15, random_state=2)\n",
    "print(simple_linear_reg_df)"
   ]
  },
  {
   "cell_type": "code",
   "execution_count": 8,
   "id": "98cf667a",
   "metadata": {},
   "outputs": [
    {
     "data": {
      "text/plain": [
       "<AxesSubplot:xlabel='Relative_Compactness', ylabel='Cooling_Load'>"
      ]
     },
     "execution_count": 8,
     "metadata": {},
     "output_type": "execute_result"
    },
    {
     "data": {
      "image/png": "[encoded data removed]",
      "text/plain": [
       "<Figure size 432x288 with 1 Axes>"
      ]
     },
     "metadata": {
      "needs_background": "light"
     },
     "output_type": "display_data"
    }
   ],
   "source": [
    "sns.regplot(x=\"Relative_Compactness\", y=\"Cooling_Load\",\n",
    "data=simple_linear_reg_df)"
   ]
  },
  {
   "cell_type": "code",
   "execution_count": 9,
   "id": "003e201d",
   "metadata": {},
   "outputs": [],
   "source": [
    "from sklearn.preprocessing import MinMaxScaler\n",
    "\n",
    "scaler = MinMaxScaler()\n",
    "normalised_df = pd.DataFrame(scaler.fit_transform(df), columns=df.columns).dropna(axis=1)\n",
    "features_df = normalised_df.drop(columns=['Heating_Load', 'Cooling_Load']).dropna(axis=1)"
   ]
  },
  {
   "cell_type": "code",
   "execution_count": 10,
   "id": "03c49763",
   "metadata": {},
   "outputs": [
    {
     "name": "stdout",
     "output_type": "stream",
     "text": [
      "0      0.257212\n",
      "1      0.257212\n",
      "2      0.257212\n",
      "3      0.257212\n",
      "4      0.399838\n",
      "         ...   \n",
      "763    0.320032\n",
      "764    0.283904\n",
      "765    0.281208\n",
      "766    0.282286\n",
      "767    0.286600\n",
      "Name: Heating_Load, Length: 768, dtype: float64\n"
     ]
    }
   ],
   "source": [
    "heating_target = normalised_df['Heating_Load']\n",
    "print(heating_target)"
   ]
  },
  {
   "cell_type": "code",
   "execution_count": 11,
   "id": "959fdeca",
   "metadata": {},
   "outputs": [],
   "source": [
    "x_train, x_test, y_train, y_test = train_test_split(features_df, heating_target, test_size=0.3, random_state=1)"
   ]
  },
  {
   "cell_type": "code",
   "execution_count": 86,
   "id": "4ecd60d0",
   "metadata": {},
   "outputs": [],
   "source": [
    "from sklearn import linear_model\n",
    "from sklearn.linear_model import LinearRegression\n",
    "\n",
    "linear_model = LinearRegression()\n",
    "linear_model.fit(x_train, y_train)\n",
    "predicted_values = linear_model.predict(x_test)"
   ]
  },
  {
   "cell_type": "code",
   "execution_count": 53,
   "id": "04a12b9d",
   "metadata": {},
   "outputs": [
    {
     "data": {
      "text/plain": [
       "0.063"
      ]
     },
     "execution_count": 53,
     "metadata": {},
     "output_type": "execute_result"
    }
   ],
   "source": [
    "from sklearn.metrics import mean_absolute_error\n",
    "\n",
    "mae = mean_absolute_error(y_test, predicted_values)\n",
    "round(mae, 3)"
   ]
  },
  {
   "cell_type": "markdown",
   "id": "4b2b6179",
   "metadata": {},
   "source": [
    "Residual Sum of Squares(RSS)"
   ]
  },
  {
   "cell_type": "code",
   "execution_count": 56,
   "id": "dd8737f7",
   "metadata": {},
   "outputs": [
    {
     "data": {
      "text/plain": [
       "1.817"
      ]
     },
     "execution_count": 56,
     "metadata": {},
     "output_type": "execute_result"
    }
   ],
   "source": [
    "rss = np.sum(np.square(y_test - predicted_values))\n",
    "round(rss, 3)"
   ]
  },
  {
   "cell_type": "markdown",
   "id": "cafc071e",
   "metadata": {},
   "source": [
    "Root Mean Square Error(RMSE)"
   ]
  },
  {
   "cell_type": "code",
   "execution_count": 58,
   "id": "1406b501",
   "metadata": {},
   "outputs": [
    {
     "data": {
      "text/plain": [
       "0.089"
      ]
     },
     "execution_count": 58,
     "metadata": {},
     "output_type": "execute_result"
    }
   ],
   "source": [
    "from sklearn.metrics import mean_squared_error\n",
    "rmse = np.sqrt(mean_squared_error(y_test, predicted_values))\n",
    "round(rmse, 3)"
   ]
  },
  {
   "cell_type": "markdown",
   "id": "8eee7a80",
   "metadata": {},
   "source": [
    "R-Squared"
   ]
  },
  {
   "cell_type": "code",
   "execution_count": 59,
   "id": "10753724",
   "metadata": {},
   "outputs": [
    {
     "data": {
      "text/plain": [
       "0.894"
      ]
     },
     "execution_count": 59,
     "metadata": {},
     "output_type": "execute_result"
    }
   ],
   "source": [
    "from sklearn.metrics import r2_score\n",
    "\n",
    "r2_score = r2_score(y_test, predicted_values)\n",
    "round(r2_score, 3)"
   ]
  },
  {
   "cell_type": "code",
   "execution_count": 61,
   "id": "d54e9690",
   "metadata": {},
   "outputs": [
    {
     "data": {
      "text/plain": [
       "Ridge(alpha=0.5)"
      ]
     },
     "execution_count": 61,
     "metadata": {},
     "output_type": "execute_result"
    }
   ],
   "source": [
    "from sklearn.linear_model import Ridge\n",
    "\n",
    "ridge_reg = Ridge(alpha=0.5)\n",
    "ridge_reg.fit(x_train, y_train)"
   ]
  },
  {
   "cell_type": "code",
   "execution_count": 62,
   "id": "714b1d52",
   "metadata": {},
   "outputs": [
    {
     "data": {
      "text/plain": [
       "Lasso(alpha=0.001)"
      ]
     },
     "execution_count": 62,
     "metadata": {},
     "output_type": "execute_result"
    }
   ],
   "source": [
    "from sklearn.linear_model import Lasso\n",
    "\n",
    "lasso_reg = Lasso(alpha=0.001)\n",
    "lasso_reg.fit(x_train, y_train)"
   ]
  },
  {
   "cell_type": "code",
   "execution_count": 74,
   "id": "ff00c3ae",
   "metadata": {},
   "outputs": [],
   "source": [
    "def get_weights_df(model, feat, col_name):\n",
    "    weights = pd.Series(model.coef_,feat.columns).sort_values()\n",
    "    weights_df = pd.DataFrame(weights).reset_index()\n",
    "    weights_df.columns = ['Features', col_name]\n",
    "    weights_df[col_name].round(3)\n",
    "    return weights_df"
   ]
  },
  {
   "cell_type": "code",
   "execution_count": 89,
   "id": "87210f50",
   "metadata": {
    "scrolled": true
   },
   "outputs": [
    {
     "name": "stdout",
     "output_type": "stream",
     "text": [
      "                    Features  Linear_Model_Weight  Ridge_Weight  Lasso_weight\n",
      "0       Relative_Compactness            -0.606412     -0.283471     -0.027719\n",
      "1                  Roof_Area            -0.328099     -0.163192     -0.000000\n",
      "2               Surface_Area            -0.235022     -0.062275      0.000000\n",
      "3                Orientation             0.003399      0.003369      0.000000\n",
      "4                  Wall_Area             0.018947      0.103061      0.200087\n",
      "5  Glazing_Area_Distribution             0.028452      0.029088      0.021431\n",
      "6               Glazing_Area             0.215042      0.212449      0.206132\n",
      "7             Overall_Height             0.393549      0.442467      0.463482\n"
     ]
    }
   ],
   "source": [
    "linear_model_weight = LinearRegression()\n",
    "\n",
    "linear_model_weights = get_weights_df(linear_model, x_train, 'Linear_Model_Weight')\n",
    "ridge_weights_df = get_weights_df(ridge_reg, x_train, 'Ridge_Weight')\n",
    "lasso_weights_df = get_weights_df(lasso_reg, x_train, 'Lasso_weight')\n",
    "final_weights = pd.merge(linear_model_weights, ridge_weights_df, on='Features')\n",
    "final_weights = pd.merge(final_weights, lasso_weights_df, on='Features')\n",
    "print(final_weights)"
   ]
  },
  {
   "cell_type": "code",
   "execution_count": null,
   "id": "394303a3",
   "metadata": {},
   "outputs": [],
   "source": []
  }
 ],
 "metadata": {
  "kernelspec": {
   "display_name": "Python 3 (ipykernel)",
   "language": "python",
   "name": "python3"
  },
  "language_info": {
   "codemirror_mode": {
    "name": "ipython",
    "version": 3
   },
   "file_extension": ".py",
   "mimetype": "text/x-python",
   "name": "python",
   "nbconvert_exporter": "python",
   "pygments_lexer": "ipython3",
   "version": "3.9.7"
  }
 },
 "nbformat": 4,
 "nbformat_minor": 5
}
